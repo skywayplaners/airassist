{
 "cells": [
  {
   "cell_type": "code",
   "execution_count": 1,
   "metadata": {},
   "outputs": [
    {
     "name": "stderr",
     "output_type": "stream",
     "text": [
      "C:\\Users\\bbcho\\AppData\\Local\\conda\\conda\\envs\\PythonData\\lib\\site-packages\\sklearn\\externals\\joblib\\__init__.py:15: DeprecationWarning: sklearn.externals.joblib is deprecated in 0.21 and will be removed in 0.23. Please import this functionality directly from joblib, which can be installed with: pip install joblib. If this warning is raised when loading pickled models, you may need to re-serialize those models with scikit-learn 0.21+.\n",
      "  warnings.warn(msg, category=DeprecationWarning)\n"
     ]
    }
   ],
   "source": [
    "import pandas as pd\n",
    "import numpy as np\n",
    "import matplotlib.pyplot as plt\n",
    "import os\n",
    "import time\n",
    "from sklearn.externals import joblib"
   ]
  },
  {
   "cell_type": "code",
   "execution_count": 2,
   "metadata": {},
   "outputs": [
    {
     "data": {
      "text/html": [
       "<div>\n",
       "<style scoped>\n",
       "    .dataframe tbody tr th:only-of-type {\n",
       "        vertical-align: middle;\n",
       "    }\n",
       "\n",
       "    .dataframe tbody tr th {\n",
       "        vertical-align: top;\n",
       "    }\n",
       "\n",
       "    .dataframe thead th {\n",
       "        text-align: right;\n",
       "    }\n",
       "</style>\n",
       "<table border=\"1\" class=\"dataframe\">\n",
       "  <thead>\n",
       "    <tr style=\"text-align: right;\">\n",
       "      <th></th>\n",
       "      <th>ARRIVAL_DELAY</th>\n",
       "      <th>DELAY_YN</th>\n",
       "      <th>MONTH_1</th>\n",
       "      <th>MONTH_2</th>\n",
       "      <th>MONTH_3</th>\n",
       "      <th>MONTH_4</th>\n",
       "      <th>MONTH_5</th>\n",
       "      <th>MONTH_6</th>\n",
       "      <th>MONTH_7</th>\n",
       "      <th>MONTH_8</th>\n",
       "      <th>...</th>\n",
       "      <th>DEP_HOUR_14</th>\n",
       "      <th>DEP_HOUR_15</th>\n",
       "      <th>DEP_HOUR_16</th>\n",
       "      <th>DEP_HOUR_17</th>\n",
       "      <th>DEP_HOUR_18</th>\n",
       "      <th>DEP_HOUR_19</th>\n",
       "      <th>DEP_HOUR_20</th>\n",
       "      <th>DEP_HOUR_21</th>\n",
       "      <th>DEP_HOUR_22</th>\n",
       "      <th>DEP_HOUR_23</th>\n",
       "    </tr>\n",
       "  </thead>\n",
       "  <tbody>\n",
       "    <tr>\n",
       "      <th>0</th>\n",
       "      <td>0</td>\n",
       "      <td>0</td>\n",
       "      <td>0</td>\n",
       "      <td>0</td>\n",
       "      <td>0</td>\n",
       "      <td>0</td>\n",
       "      <td>0</td>\n",
       "      <td>0</td>\n",
       "      <td>0</td>\n",
       "      <td>0</td>\n",
       "      <td>...</td>\n",
       "      <td>0</td>\n",
       "      <td>0</td>\n",
       "      <td>0</td>\n",
       "      <td>0</td>\n",
       "      <td>0</td>\n",
       "      <td>0</td>\n",
       "      <td>0</td>\n",
       "      <td>0</td>\n",
       "      <td>0</td>\n",
       "      <td>0</td>\n",
       "    </tr>\n",
       "  </tbody>\n",
       "</table>\n",
       "<p>1 rows × 702 columns</p>\n",
       "</div>"
      ],
      "text/plain": [
       "   ARRIVAL_DELAY  DELAY_YN  MONTH_1  MONTH_2  MONTH_3  MONTH_4  MONTH_5  \\\n",
       "0              0         0        0        0        0        0        0   \n",
       "\n",
       "   MONTH_6  MONTH_7  MONTH_8  ...  DEP_HOUR_14  DEP_HOUR_15  DEP_HOUR_16  \\\n",
       "0        0        0        0  ...            0            0            0   \n",
       "\n",
       "   DEP_HOUR_17  DEP_HOUR_18  DEP_HOUR_19  DEP_HOUR_20  DEP_HOUR_21  \\\n",
       "0            0            0            0            0            0   \n",
       "\n",
       "   DEP_HOUR_22  DEP_HOUR_23  \n",
       "0            0            0  \n",
       "\n",
       "[1 rows x 702 columns]"
      ]
     },
     "execution_count": 2,
     "metadata": {},
     "output_type": "execute_result"
    }
   ],
   "source": [
    "#reading the user input file to test the prediction model\n",
    "my_df = pd.read_csv(\"Resources/user_input_df.csv\")\n",
    "my_df"
   ]
  },
  {
   "cell_type": "code",
   "execution_count": 3,
   "metadata": {},
   "outputs": [],
   "source": [
    "#setting sample data to test the model and predict the delay\n",
    "month = 2\n",
    "day_of_week = 6\n",
    "airline = \"AA\"\n",
    "origin = \"SFO\"\n",
    "dest = \"LAS\"\n",
    "dep_hr = 10"
   ]
  },
  {
   "cell_type": "code",
   "execution_count": 4,
   "metadata": {},
   "outputs": [],
   "source": [
    "#setting the values in the df \n",
    "my_df['MONTH_'+str(month)] = 1\n",
    "my_df['DAY_OF_WEEK_'+str(day_of_week)] = 1\n",
    "my_df['AIRLINE_'+str(airline)] = 1\n",
    "my_df['ORIGIN_'+str(origin)] = 1\n",
    "my_df['DEST_'+str(dest)] = 1\n",
    "my_df['DEP_HOUR_'+str(dep_hr)] = 1"
   ]
  },
  {
   "cell_type": "code",
   "execution_count": 5,
   "metadata": {},
   "outputs": [
    {
     "data": {
      "text/html": [
       "<div>\n",
       "<style scoped>\n",
       "    .dataframe tbody tr th:only-of-type {\n",
       "        vertical-align: middle;\n",
       "    }\n",
       "\n",
       "    .dataframe tbody tr th {\n",
       "        vertical-align: top;\n",
       "    }\n",
       "\n",
       "    .dataframe thead th {\n",
       "        text-align: right;\n",
       "    }\n",
       "</style>\n",
       "<table border=\"1\" class=\"dataframe\">\n",
       "  <thead>\n",
       "    <tr style=\"text-align: right;\">\n",
       "      <th></th>\n",
       "      <th>ARRIVAL_DELAY</th>\n",
       "      <th>DELAY_YN</th>\n",
       "      <th>MONTH_1</th>\n",
       "      <th>MONTH_2</th>\n",
       "      <th>MONTH_3</th>\n",
       "      <th>MONTH_4</th>\n",
       "      <th>MONTH_5</th>\n",
       "      <th>MONTH_6</th>\n",
       "      <th>MONTH_7</th>\n",
       "      <th>MONTH_8</th>\n",
       "      <th>...</th>\n",
       "      <th>DEP_HOUR_14</th>\n",
       "      <th>DEP_HOUR_15</th>\n",
       "      <th>DEP_HOUR_16</th>\n",
       "      <th>DEP_HOUR_17</th>\n",
       "      <th>DEP_HOUR_18</th>\n",
       "      <th>DEP_HOUR_19</th>\n",
       "      <th>DEP_HOUR_20</th>\n",
       "      <th>DEP_HOUR_21</th>\n",
       "      <th>DEP_HOUR_22</th>\n",
       "      <th>DEP_HOUR_23</th>\n",
       "    </tr>\n",
       "  </thead>\n",
       "  <tbody>\n",
       "    <tr>\n",
       "      <th>0</th>\n",
       "      <td>0</td>\n",
       "      <td>0</td>\n",
       "      <td>0</td>\n",
       "      <td>1</td>\n",
       "      <td>0</td>\n",
       "      <td>0</td>\n",
       "      <td>0</td>\n",
       "      <td>0</td>\n",
       "      <td>0</td>\n",
       "      <td>0</td>\n",
       "      <td>...</td>\n",
       "      <td>0</td>\n",
       "      <td>0</td>\n",
       "      <td>0</td>\n",
       "      <td>0</td>\n",
       "      <td>0</td>\n",
       "      <td>0</td>\n",
       "      <td>0</td>\n",
       "      <td>0</td>\n",
       "      <td>0</td>\n",
       "      <td>0</td>\n",
       "    </tr>\n",
       "  </tbody>\n",
       "</table>\n",
       "<p>1 rows × 702 columns</p>\n",
       "</div>"
      ],
      "text/plain": [
       "   ARRIVAL_DELAY  DELAY_YN  MONTH_1  MONTH_2  MONTH_3  MONTH_4  MONTH_5  \\\n",
       "0              0         0        0        1        0        0        0   \n",
       "\n",
       "   MONTH_6  MONTH_7  MONTH_8  ...  DEP_HOUR_14  DEP_HOUR_15  DEP_HOUR_16  \\\n",
       "0        0        0        0  ...            0            0            0   \n",
       "\n",
       "   DEP_HOUR_17  DEP_HOUR_18  DEP_HOUR_19  DEP_HOUR_20  DEP_HOUR_21  \\\n",
       "0            0            0            0            0            0   \n",
       "\n",
       "   DEP_HOUR_22  DEP_HOUR_23  \n",
       "0            0            0  \n",
       "\n",
       "[1 rows x 702 columns]"
      ]
     },
     "execution_count": 5,
     "metadata": {},
     "output_type": "execute_result"
    }
   ],
   "source": [
    "my_df"
   ]
  },
  {
   "cell_type": "code",
   "execution_count": 6,
   "metadata": {},
   "outputs": [
    {
     "name": "stdout",
     "output_type": "stream",
     "text": [
      "Probability of flight delay : 30.38%\n"
     ]
    }
   ],
   "source": [
    "#loading the prediction model\n",
    "logmodel = joblib.load('Model/Airline_Delay_Predictition_model.pkl')\n",
    "\n",
    "#predicting the probability\n",
    "my_df['DELAY_YN'] = logmodel.predict_proba(my_df.drop(['DELAY_YN','ARRIVAL_DELAY'],axis=1))[:,1]\n",
    "my_df['DELAY_YN'] = my_df['DELAY_YN'].apply(lambda x:(x)*100,2)  \n",
    "probability_delay = (int(my_df['DELAY_YN'].values[0]*100))/100\n",
    "\n",
    "print(\"Probability of flight delay : \" + str(probability_delay) + \"%\")"
   ]
  }
 ],
 "metadata": {
  "kernel_info": {
   "name": "dev"
  },
  "kernelspec": {
   "display_name": "Python 3",
   "language": "python",
   "name": "python3"
  },
  "language_info": {
   "codemirror_mode": {
    "name": "ipython",
    "version": 3
   },
   "file_extension": ".py",
   "mimetype": "text/x-python",
   "name": "python",
   "nbconvert_exporter": "python",
   "pygments_lexer": "ipython3",
   "version": "3.6.8"
  },
  "nteract": {
   "version": "0.12.3"
  }
 },
 "nbformat": 4,
 "nbformat_minor": 2
}
